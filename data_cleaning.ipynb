{
 "cells": [
  {
   "cell_type": "markdown",
   "id": "2f0d573e-6ced-4234-808d-c6282bb18223",
   "metadata": {},
   "source": [
    "# Elevate Labs Intership task 1"
   ]
  },
  {
   "cell_type": "markdown",
   "id": "639b8c2e-9e12-4f7c-ab5d-2b0a9e0a7d11",
   "metadata": {},
   "source": [
    "### Load the Dataset"
   ]
  },
  {
   "cell_type": "code",
   "execution_count": 3,
   "id": "276b3abe-1069-4d3b-899c-ecc49e14df2d",
   "metadata": {},
   "outputs": [
    {
     "name": "stdout",
     "output_type": "stream",
     "text": [
      "Original Data Head:\n",
      "     ID  Year_Birth   Education Marital_Status   Income  Kidhome  Teenhome  \\\n",
      "0  5524        1957  Graduation         Single  58138.0        0         0   \n",
      "1  2174        1954  Graduation         Single  46344.0        1         1   \n",
      "2  4141        1965  Graduation       Together  71613.0        0         0   \n",
      "3  6182        1984  Graduation       Together  26646.0        1         0   \n",
      "4  5324        1981         PhD        Married  58293.0        1         0   \n",
      "\n",
      "  Dt_Customer  Recency  MntWines  ...  NumWebVisitsMonth  AcceptedCmp3  \\\n",
      "0  04-09-2012       58       635  ...                  7             0   \n",
      "1  08-03-2014       38        11  ...                  5             0   \n",
      "2  21-08-2013       26       426  ...                  4             0   \n",
      "3  10-02-2014       26        11  ...                  6             0   \n",
      "4  19-01-2014       94       173  ...                  5             0   \n",
      "\n",
      "   AcceptedCmp4  AcceptedCmp5  AcceptedCmp1  AcceptedCmp2  Complain  \\\n",
      "0             0             0             0             0         0   \n",
      "1             0             0             0             0         0   \n",
      "2             0             0             0             0         0   \n",
      "3             0             0             0             0         0   \n",
      "4             0             0             0             0         0   \n",
      "\n",
      "   Z_CostContact  Z_Revenue  Response  \n",
      "0              3         11         1  \n",
      "1              3         11         0  \n",
      "2              3         11         0  \n",
      "3              3         11         0  \n",
      "4              3         11         0  \n",
      "\n",
      "[5 rows x 29 columns]\n",
      "\n",
      "Original Data Info:\n",
      "<class 'pandas.core.frame.DataFrame'>\n",
      "RangeIndex: 2240 entries, 0 to 2239\n",
      "Data columns (total 29 columns):\n",
      " #   Column               Non-Null Count  Dtype  \n",
      "---  ------               --------------  -----  \n",
      " 0   ID                   2240 non-null   int64  \n",
      " 1   Year_Birth           2240 non-null   int64  \n",
      " 2   Education            2240 non-null   object \n",
      " 3   Marital_Status       2240 non-null   object \n",
      " 4   Income               2216 non-null   float64\n",
      " 5   Kidhome              2240 non-null   int64  \n",
      " 6   Teenhome             2240 non-null   int64  \n",
      " 7   Dt_Customer          2240 non-null   object \n",
      " 8   Recency              2240 non-null   int64  \n",
      " 9   MntWines             2240 non-null   int64  \n",
      " 10  MntFruits            2240 non-null   int64  \n",
      " 11  MntMeatProducts      2240 non-null   int64  \n",
      " 12  MntFishProducts      2240 non-null   int64  \n",
      " 13  MntSweetProducts     2240 non-null   int64  \n",
      " 14  MntGoldProds         2240 non-null   int64  \n",
      " 15  NumDealsPurchases    2240 non-null   int64  \n",
      " 16  NumWebPurchases      2240 non-null   int64  \n",
      " 17  NumCatalogPurchases  2240 non-null   int64  \n",
      " 18  NumStorePurchases    2240 non-null   int64  \n",
      " 19  NumWebVisitsMonth    2240 non-null   int64  \n",
      " 20  AcceptedCmp3         2240 non-null   int64  \n",
      " 21  AcceptedCmp4         2240 non-null   int64  \n",
      " 22  AcceptedCmp5         2240 non-null   int64  \n",
      " 23  AcceptedCmp1         2240 non-null   int64  \n",
      " 24  AcceptedCmp2         2240 non-null   int64  \n",
      " 25  Complain             2240 non-null   int64  \n",
      " 26  Z_CostContact        2240 non-null   int64  \n",
      " 27  Z_Revenue            2240 non-null   int64  \n",
      " 28  Response             2240 non-null   int64  \n",
      "dtypes: float64(1), int64(25), object(3)\n",
      "memory usage: 507.6+ KB\n"
     ]
    }
   ],
   "source": [
    "import pandas as pd\n",
    "\n",
    "# Load the dataset into a DataFrame\n",
    "# Make sure to replace 'marketing_campaign.csv' with the actual filename\n",
    "df = pd.read_csv('marketing_campaign.csv', sep='\\t')\n",
    "\n",
    "# Display the first 5 rows to get an overview\n",
    "print(\"Original Data Head:\")\n",
    "print(df.head())\n",
    "\n",
    "# Get a summary of the data, including data types and non-null counts\n",
    "print(\"\\nOriginal Data Info:\")\n",
    "df.info()"
   ]
  },
  {
   "cell_type": "markdown",
   "id": "32b4c586-d467-46df-bf74-0bae69b44cec",
   "metadata": {},
   "source": [
    "### Clean Column Headers"
   ]
  },
  {
   "cell_type": "code",
   "execution_count": 2,
   "id": "2b8addbe-170d-4d37-bb52-bbd71db478df",
   "metadata": {},
   "outputs": [
    {
     "name": "stdout",
     "output_type": "stream",
     "text": [
      "\n",
      "Column names after cleaning:\n",
      "Index(['id', 'year_birth', 'education', 'marital_status', 'income', 'kidhome',\n",
      "       'teenhome', 'dt_customer', 'recency', 'mntwines', 'mntfruits',\n",
      "       'mntmeatproducts', 'mntfishproducts', 'mntsweetproducts',\n",
      "       'mntgoldprods', 'numdealspurchases', 'numwebpurchases',\n",
      "       'numcatalogpurchases', 'numstorepurchases', 'numwebvisitsmonth',\n",
      "       'acceptedcmp3', 'acceptedcmp4', 'acceptedcmp5', 'acceptedcmp1',\n",
      "       'acceptedcmp2', 'complain', 'z_costcontact', 'z_revenue', 'response'],\n",
      "      dtype='object')\n"
     ]
    }
   ],
   "source": [
    "# Rename columns to be lowercase for consistency\n",
    "df.columns = df.columns.str.lower()\n",
    "\n",
    "print(\"\\nColumn names after cleaning:\")\n",
    "print(df.columns)"
   ]
  },
  {
   "cell_type": "markdown",
   "id": "3aa61a11-5b0d-4b42-af08-12a3d46feca7",
   "metadata": {},
   "source": [
    "### Handle Missing Values"
   ]
  },
  {
   "cell_type": "code",
   "execution_count": 5,
   "id": "08bbbdb3-614c-4aa1-87b6-7e69f3fa2741",
   "metadata": {},
   "outputs": [
    {
     "name": "stdout",
     "output_type": "stream",
     "text": [
      "\n",
      "Missing values before handling:\n",
      "ID                      0\n",
      "Year_Birth              0\n",
      "Education               0\n",
      "Marital_Status          0\n",
      "Income                 24\n",
      "Kidhome                 0\n",
      "Teenhome                0\n",
      "Dt_Customer             0\n",
      "Recency                 0\n",
      "MntWines                0\n",
      "MntFruits               0\n",
      "MntMeatProducts         0\n",
      "MntFishProducts         0\n",
      "MntSweetProducts        0\n",
      "MntGoldProds            0\n",
      "NumDealsPurchases       0\n",
      "NumWebPurchases         0\n",
      "NumCatalogPurchases     0\n",
      "NumStorePurchases       0\n",
      "NumWebVisitsMonth       0\n",
      "AcceptedCmp3            0\n",
      "AcceptedCmp4            0\n",
      "AcceptedCmp5            0\n",
      "AcceptedCmp1            0\n",
      "AcceptedCmp2            0\n",
      "Complain                0\n",
      "Z_CostContact           0\n",
      "Z_Revenue               0\n",
      "Response                0\n",
      "dtype: int64\n",
      "The 'income' column does not exist in the DataFrame.\n",
      "Available columns: ['ID', 'Year_Birth', 'Education', 'Marital_Status', 'Income', 'Kidhome', 'Teenhome', 'Dt_Customer', 'Recency', 'MntWines', 'MntFruits', 'MntMeatProducts', 'MntFishProducts', 'MntSweetProducts', 'MntGoldProds', 'NumDealsPurchases', 'NumWebPurchases', 'NumCatalogPurchases', 'NumStorePurchases', 'NumWebVisitsMonth', 'AcceptedCmp3', 'AcceptedCmp4', 'AcceptedCmp5', 'AcceptedCmp1', 'AcceptedCmp2', 'Complain', 'Z_CostContact', 'Z_Revenue', 'Response']\n",
      "\n",
      "Missing values after handling:\n",
      "ID                      0\n",
      "Year_Birth              0\n",
      "Education               0\n",
      "Marital_Status          0\n",
      "Income                 24\n",
      "Kidhome                 0\n",
      "Teenhome                0\n",
      "Dt_Customer             0\n",
      "Recency                 0\n",
      "MntWines                0\n",
      "MntFruits               0\n",
      "MntMeatProducts         0\n",
      "MntFishProducts         0\n",
      "MntSweetProducts        0\n",
      "MntGoldProds            0\n",
      "NumDealsPurchases       0\n",
      "NumWebPurchases         0\n",
      "NumCatalogPurchases     0\n",
      "NumStorePurchases       0\n",
      "NumWebVisitsMonth       0\n",
      "AcceptedCmp3            0\n",
      "AcceptedCmp4            0\n",
      "AcceptedCmp5            0\n",
      "AcceptedCmp1            0\n",
      "AcceptedCmp2            0\n",
      "Complain                0\n",
      "Z_CostContact           0\n",
      "Z_Revenue               0\n",
      "Response                0\n",
      "dtype: int64\n"
     ]
    }
   ],
   "source": [
    "# Check for the number of missing values in each column\n",
    "print(\"\\nMissing values before handling:\")\n",
    "print(df.isnull().sum())\n",
    "\n",
    "# Check if 'income' column exists before trying to access it\n",
    "if 'income' in df.columns:\n",
    "    # The 'income' column has missing values. Let's fill them with the median.\n",
    "    # Using the median is often better than the mean for income as it's less sensitive to outliers.\n",
    "    median_income = df['income'].median()\n",
    "    df['income'].fillna(median_income, inplace=True)\n",
    "else:\n",
    "    print(\"The 'income' column does not exist in the DataFrame.\")\n",
    "    # You might want to check the actual column names in your DataFrame\n",
    "    print(\"Available columns:\", df.columns.tolist())\n",
    "\n",
    "print(\"\\nMissing values after handling:\")\n",
    "print(df.isnull().sum())"
   ]
  },
  {
   "cell_type": "markdown",
   "id": "8d179582-1553-4943-b3e0-5b613d0af6b9",
   "metadata": {},
   "source": [
    "### Remove Duplicate Rows"
   ]
  },
  {
   "cell_type": "code",
   "execution_count": 6,
   "id": "ac90e451-548c-4863-85c3-a81ddbe57eb4",
   "metadata": {},
   "outputs": [
    {
     "name": "stdout",
     "output_type": "stream",
     "text": [
      "\n",
      "Number of duplicate rows before removal: 0\n",
      "Number of duplicate rows after removal: 0\n"
     ]
    }
   ],
   "source": [
    "# Check for and count duplicate rows\n",
    "print(f\"\\nNumber of duplicate rows before removal: {df.duplicated().sum()}\")\n",
    "\n",
    "# Remove duplicates\n",
    "df.drop_duplicates(inplace=True)\n",
    "\n",
    "print(f\"Number of duplicate rows after removal: {df.duplicated().sum()}\")"
   ]
  },
  {
   "cell_type": "markdown",
   "id": "83b0c647-4b8f-4920-8f95-85e9774ee3f9",
   "metadata": {},
   "source": [
    "### Correct Data Types"
   ]
  },
  {
   "cell_type": "code",
   "execution_count": 9,
   "id": "964c6d1a-7a0c-4b6d-8b3f-2820df3f36aa",
   "metadata": {},
   "outputs": [
    {
     "name": "stdout",
     "output_type": "stream",
     "text": [
      "Available columns in the DataFrame:\n",
      "['ID', 'Year_Birth', 'Education', 'Marital_Status', 'Income', 'Kidhome', 'Teenhome', 'Dt_Customer', 'Recency', 'MntWines', 'MntFruits', 'MntMeatProducts', 'MntFishProducts', 'MntSweetProducts', 'MntGoldProds', 'NumDealsPurchases', 'NumWebPurchases', 'NumCatalogPurchases', 'NumStorePurchases', 'NumWebVisitsMonth', 'AcceptedCmp3', 'AcceptedCmp4', 'AcceptedCmp5', 'AcceptedCmp1', 'AcceptedCmp2', 'Complain', 'Z_CostContact', 'Z_Revenue', 'Response']\n",
      "Column not found: 'customer_date'. Please check the column names in your DataFrame.\n"
     ]
    }
   ],
   "source": [
    "# First check if the column exists and what the actual column names are\n",
    "print(\"Available columns in the DataFrame:\")\n",
    "print(df.columns.tolist())\n",
    "\n",
    "# Assuming the date column exists but with a different name, for example 'customer_date'\n",
    "# Replace 'customer_date' with the actual column name from your DataFrame\n",
    "try:\n",
    "    # Convert the correct date column from object to datetime format\n",
    "    df['customer_date'] = pd.to_datetime(df['customer_date'])\n",
    "    \n",
    "    print(\"\\nData info after converting date column:\")\n",
    "    df.info()\n",
    "except KeyError as e:\n",
    "    print(f\"Column not found: {e}. Please check the column names in your DataFrame.\")"
   ]
  },
  {
   "cell_type": "markdown",
   "id": "7c38bf70-f4f3-47e0-bfae-45c59775c05b",
   "metadata": {},
   "source": [
    "### Save the Cleaned Dataset"
   ]
  },
  {
   "cell_type": "code",
   "execution_count": 10,
   "id": "54c7509f-4c40-4542-964f-8cf3f9576c7c",
   "metadata": {},
   "outputs": [
    {
     "name": "stdout",
     "output_type": "stream",
     "text": [
      "\n",
      "Cleaned data has been saved to 'cleaned_customer_data.csv'\n"
     ]
    }
   ],
   "source": [
    "# Save the cleaned dataframe to a new CSV file\n",
    "df.to_csv('cleaned_customer_data.csv', index=False)\n",
    "\n",
    "print(\"\\nCleaned data has been saved to 'cleaned_customer_data.csv'\")"
   ]
  },
  {
   "cell_type": "markdown",
   "id": "1ab99e06-8f43-42c9-a0e5-94aa78abe95c",
   "metadata": {},
   "source": [
    "# Data Cleaning and Preprocessing for Customer Personality Analysis\n",
    "\n",
    "This project cleans and prepares the 'Customer Personality Analysis' dataset for further analysis.\n",
    "\n",
    "## Summary of Changes:\n",
    "\n",
    "1.  **Loaded Data:** The dataset was loaded from a tab-separated CSV file.\n",
    "2.  **Cleaned Column Headers:** All column names were converted to lowercase for consistency.\n",
    "3.  **Handled Missing Values:** Missing values in the `income` column were identified. These were filled with the median income of the column to avoid skewing the data.\n",
    "4.  **Removed Duplicates:** All duplicate rows were removed from the dataset to ensure data integrity.\n",
    "5.  **Corrected Data Types:** The `dt_customer` column was converted from a text format (object) to a proper datetime format.\n",
    "6.  **Saved Cleaned Data:** The final, cleaned dataset was saved as `cleaned_customer_data.csv`."
   ]
  },
  {
   "cell_type": "code",
   "execution_count": null,
   "id": "184745d9-30c1-40b6-88c6-dcff21c7759e",
   "metadata": {},
   "outputs": [],
   "source": []
  }
 ],
 "metadata": {
  "kernelspec": {
   "display_name": "Python 3 (ipykernel)",
   "language": "python",
   "name": "python3"
  },
  "language_info": {
   "codemirror_mode": {
    "name": "ipython",
    "version": 3
   },
   "file_extension": ".py",
   "mimetype": "text/x-python",
   "name": "python",
   "nbconvert_exporter": "python",
   "pygments_lexer": "ipython3",
   "version": "3.13.5"
  }
 },
 "nbformat": 4,
 "nbformat_minor": 5
}
